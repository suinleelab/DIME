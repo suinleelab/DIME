{
 "cells": [
  {
   "cell_type": "code",
   "execution_count": 2,
   "id": "2923bca2",
   "metadata": {},
   "outputs": [],
   "source": [
    "import torch\n",
    "import pickle\n",
    "import argparse\n",
    "import numpy as np\n",
    "import torch.nn as nn\n",
    "from torchmetrics import AUROC\n",
    "from sklearn.metrics import accuracy_score\n",
    "from torch.utils.data import DataLoader, random_split\n",
    "from torchvision import transforms\n",
    "from torchvision.datasets import MNIST\n",
    "from torchvision.datasets import ImageFolder\n",
    "import os\n",
    "from fastai.vision.all import untar_data, URLs\n",
    "import pandas as pd\n",
    "from pytorch_lightning import Trainer\n",
    "from experiments import MaskLayerGaussian, MaskLayer2d, HistopathologyDownsampledDataset\n",
    "from dime.greedy_models import GreedyCMIEstimator\n",
    "from dime.masking_pretrainer import MaskingPretrainer\n",
    "from dime.greedy_model_pl import GreedyCMIEstimatorPL\n",
    "from dime.resnet_imagenet import resnet18, resnet34, Predictor, ValueNetwork, ResNet18Backbone, resnet50\n",
    "from dime.utils import accuracy, auc, normalize, selection_with_lamda, MaskLayer\n",
    "from dime.vit import PredictorViT, ValueNetworViT\n",
    "import timm\n",
    "import matplotlib.pyplot as plt"
   ]
  },
  {
   "cell_type": "markdown",
   "id": "60a534bf",
   "metadata": {},
   "source": [
    "# Load Dataset"
   ]
  },
  {
   "cell_type": "code",
   "execution_count": null,
   "id": "108302ce",
   "metadata": {},
   "outputs": [],
   "source": [
    "# Load test dataset, split into train/val\n",
    "mnist_dataset = MNIST('/tmp/mnist/', download=True, train=True,\n",
    "                      transform=transforms.Compose([transforms.ToTensor(), transforms.Lambda(torch.flatten)]))\n",
    "np.random.seed(0)\n",
    "# Load test dataset\n",
    "test_dataset = MNIST('/tmp/mnist/', download=True, train=False,\n",
    "                     transform=transforms.Compose([transforms.ToTensor(), transforms.Lambda(torch.flatten)]))\n",
    "\n",
    "device = torch.device('cuda:2')\n",
    "\n",
    "test_dataloader = DataLoader(\n",
    "        test_dataset, batch_size=128, shuffle=False, pin_memory=True,\n",
    "        drop_last=True, num_workers=4)"
   ]
  },
  {
   "cell_type": "markdown",
   "id": "d6bf3c02",
   "metadata": {},
   "source": [
    "# Set up networks"
   ]
  },
  {
   "cell_type": "code",
   "execution_count": null,
   "id": "256bc905",
   "metadata": {},
   "outputs": [],
   "source": [
    "d_in = 784\n",
    "d_out = 10\n",
    "hidden = 512\n",
    "dropout = 0.3\n",
    "\n",
    "# Outcome Predictor\n",
    "predictor = nn.Sequential(\n",
    "    nn.Linear(d_in * 2, hidden),\n",
    "    nn.ReLU(),\n",
    "    nn.Dropout(dropout),\n",
    "    nn.Linear(hidden, hidden),\n",
    "    nn.ReLU(),\n",
    "    nn.Dropout(dropout),\n",
    "    nn.Linear(hidden, d_out)).to(device)\n",
    "\n",
    "# CMI Predictor\n",
    "value_network = nn.Sequential(\n",
    "    nn.Linear(d_in * 2, hidden),\n",
    "    nn.ReLU(),\n",
    "    nn.Dropout(dropout),\n",
    "    nn.Linear(hidden, hidden),\n",
    "    nn.ReLU(),\n",
    "    nn.Dropout(dropout),\n",
    "    nn.Linear(hidden, d_in),\n",
    "    nn.Sigmoid()).to(device)\n",
    "\n",
    "# Tie weights\n",
    "value_network[0] = predictor[0]\n",
    "value_network[3] = predictor[3]\n",
    "mask_layer = MaskLayer(append=True, mask_size=d_in)"
   ]
  },
  {
   "cell_type": "markdown",
   "id": "b0660b31",
   "metadata": {},
   "source": [
    "# Evaluate Penalized Policy"
   ]
  },
  {
   "cell_type": "code",
   "execution_count": null,
   "id": "50c76708",
   "metadata": {},
   "outputs": [],
   "source": [
    "\n",
    "for trial in range(0, 5):\n",
    "    results_dict = {\"acc\": {}}\n",
    "    path = f'<path_to_trained_model>'\n",
    "\n",
    "    greedy_cmi_estimator = GreedyCMIEstimatorPL.load_from_checkpoint(path,\n",
    "                                                                    value_network=value_network,\n",
    "                                                                     predictor=predictor,\n",
    "                                                                     mask_layer=mask_layer,\n",
    "                                                                     lr=1e-3,\n",
    "                                                                    min_lr=1e-6,\n",
    "                                                                    max_features=50,\n",
    "                                                                    eps=0.05,\n",
    "                                                                    loss_fn=nn.CrossEntropyLoss(reduction='none'),\n",
    "                                                                    val_loss_fn=auc,\n",
    "                                                                    eps_decay=True,\n",
    "                                                                    eps_decay_rate=0.2,\n",
    "                                                                    patience=3,\n",
    "                                                                    feature_costs=None,\n",
    "                                                                    use_entropy=True).to(device)\n",
    "    avg_num_features_lamda = []\n",
    "    accuracy_scores_lamda = []\n",
    "    all_masks_lamda =[]\n",
    "\n",
    "    lamda_values = list(np.geomspace(0.00016, 0.28, num=10))\n",
    "    for lamda in lamda_values:\n",
    "        metric_dict = greedy_cmi_estimator.evaluate(test_dataloader, performance_func=accuracy, \n",
    "                                                                        feature_costs=None, use_entropy=True, evaluation_mode='lamda-penalty', lamda=lamda)\n",
    "\n",
    "        accuracy_score = metric_dict['performance']\n",
    "        final_masks = metric_dict['final_masks']\n",
    "        accuracy_scores_lamda.append(accuracy_score)\n",
    "        avg_num_features_lamda.append(np.mean(np.sum(final_masks, axis=1)))\n",
    "        results_dict['acc'][np.mean(np.sum(final_masks, axis=1))] = accuracy_score\n",
    "\n",
    "        print(f\"Lambda={lamda}, Acc={accuracy_score}, Avg. num features={np.mean(np.sum(final_masks, axis=1))}\")\n",
    "        all_masks_lamda.append(final_masks)\n",
    "    with open(f'results/mnist_lamda_ours_trial_{trial-4}.pkl', 'wb') as f:\n",
    "        pickle.dump(results_dict, f)\n"
   ]
  },
  {
   "cell_type": "markdown",
   "id": "79adee46",
   "metadata": {},
   "source": [
    "# Evaluate Budget Constrained Policy"
   ]
  },
  {
   "cell_type": "code",
   "execution_count": null,
   "id": "d9a94c19",
   "metadata": {},
   "outputs": [],
   "source": [
    "results_dict = {\"acc\": {}}\n",
    "for trial in range(0, 5):\n",
    "   \n",
    "    path = f'<path_to_trained_model>'\n",
    "    greedy_cmi_estimator = GreedyCMIEstimatorPL.load_from_checkpoint(path,\n",
    "                                                                    value_network=value_network,\n",
    "                                                                     predictor=predictor,\n",
    "                                                                     mask_layer=mask_layer,\n",
    "                                                                     lr=1e-3,\n",
    "                                                                    min_lr=1e-6,\n",
    "                                                                    max_features=50,\n",
    "                                                                    eps=0.05,\n",
    "                                                                    loss_fn=nn.CrossEntropyLoss(reduction='none'),\n",
    "                                                                    val_loss_fn=auc,\n",
    "                                                                    eps_decay=True,\n",
    "                                                                    eps_decay_rate=0.2,\n",
    "                                                                    patience=3,\n",
    "                                                                    feature_costs=None,\n",
    "                                                                    use_entropy=True)\n",
    "    avg_num_features_budget = []\n",
    "    accuracy_scores_budget = []\n",
    "    all_masks_budget=[]\n",
    "\n",
    "    max_budget_values = [3] + list(range(5, 30, 5))\n",
    "    for budget in max_budget_values:\n",
    "        metric_dict_budget = greedy_cmi_estimator.evaluate(test_dataloader, performance_func=accuracy, \n",
    "                                                                        feature_costs=None, evaluation_mode='fixed-budget', budget=budget)\n",
    "\n",
    "        accuracy_score = metric_dict_budget['performance']\n",
    "        final_masks = metric_dict_budget['final_masks']\n",
    "        accuracy_scores_budget.append(accuracy_score)\n",
    "        avg_num_features_budget.append(np.mean(np.sum(final_masks, axis=1)))\n",
    "        results_dict['acc'][np.mean(np.sum(final_masks, axis=1))] = accuracy_score\n",
    "        print(f\"Budget={budget}, Acc={accuracy_score}, Avg. num features={np.mean(np.sum(final_masks, axis=1))}\")\n",
    "\n",
    "    all_masks_budget.append(final_masks)\n",
    "    with open(f'results/mnist_ours_trial_{trial-4}.pkl', 'wb') as f:\n",
    "        pickle.dump(results_dict, f)\n"
   ]
  },
  {
   "cell_type": "code",
   "execution_count": null,
   "id": "0a416f9a",
   "metadata": {},
   "outputs": [],
   "source": []
  }
 ],
 "metadata": {
  "kernelspec": {
   "display_name": "Python [conda env:adap_selec]",
   "language": "python",
   "name": "conda-env-adap_selec-py"
  },
  "language_info": {
   "codemirror_mode": {
    "name": "ipython",
    "version": 3
   },
   "file_extension": ".py",
   "mimetype": "text/x-python",
   "name": "python",
   "nbconvert_exporter": "python",
   "pygments_lexer": "ipython3",
   "version": "3.9.13"
  }
 },
 "nbformat": 4,
 "nbformat_minor": 5
}
