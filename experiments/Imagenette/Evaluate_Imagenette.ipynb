{
 "cells": [
  {
   "cell_type": "code",
   "execution_count": 1,
   "id": "2f082db0",
   "metadata": {},
   "outputs": [],
   "source": [
    "import torch\n",
    "import pickle\n",
    "import argparse\n",
    "import numpy as np\n",
    "import torch.nn as nn\n",
    "from torchmetrics import AUROC\n",
    "from sklearn.metrics import accuracy_score\n",
    "from torch.utils.data import DataLoader, random_split\n",
    "from torchvision import transforms\n",
    "from torchvision.datasets import ImageFolder\n",
    "import os\n",
    "from fastai.vision.all import untar_data, URLs\n",
    "from dime.data_utils import MaskLayerGaussian, MaskLayer2d\n",
    "from dime.greedy_models import GreedyCMIEstimator\n",
    "from dime.masking_pretrainer import MaskingPretrainer\n",
    "from dime.resnet_imagenet import resnet18, Predictor, ValueNetwork, ResNet18Backbone\n",
    "from dime.utils import accuracy, auc, normalize, selection_with_lamda\n",
    "from dime.vit import PredictorViT, ValueNetworViT\n",
    "import timm\n",
    "import matplotlib.pyplot as plt"
   ]
  },
  {
   "cell_type": "markdown",
   "id": "d029cbb1",
   "metadata": {},
   "source": [
    "# Load Dataset"
   ]
  },
  {
   "cell_type": "code",
   "execution_count": null,
   "id": "bb784356",
   "metadata": {},
   "outputs": [],
   "source": [
    "image_size = 224\n",
    "mask_width = 14\n",
    "mask_type = 'zero'\n",
    "if mask_type == 'gaussian':\n",
    "    mask_layer = MaskLayerGaussian(append=False, mask_width=mask_width, patch_size=image_size/mask_width)\n",
    "else:\n",
    "    mask_layer = MaskLayer2d(append=False, mask_width=mask_width, patch_size=image_size/mask_width)\n",
    "\n",
    "device = torch.device('cuda:1')\n",
    "\n",
    "norm_constants = ((0.4914, 0.4822, 0.4465), (0.2023, 0.1994, 0.2010))\n",
    "unnorm_constants = ((-0.4914/0.2023, -0.4822/0.1994, -0.4465/0.2010), (1/0.2023, 1/0.1994, 1/0.2010))\n",
    "mbsize = 32\n",
    "dataset_path = \"/homes/<labname>/<username>/.fastai/data/imagenette2-320\"\n",
    "transforms_test = transforms.Compose([\n",
    "        transforms.Resize(256),\n",
    "        transforms.CenterCrop(image_size),\n",
    "        transforms.ToTensor(),\n",
    "        transforms.Normalize(*norm_constants),\n",
    "    ])\n",
    "\n",
    "test_dataset = ImageFolder(dataset_path+'/val', transforms_test)\n",
    "test_dataloader = DataLoader(test_dataset, batch_size=mbsize, pin_memory=True, drop_last=True, num_workers=4, shuffle=False)"
   ]
  },
  {
   "cell_type": "markdown",
   "id": "b18d5edd",
   "metadata": {},
   "source": [
    "# Load Pretrained Model"
   ]
  },
  {
   "cell_type": "code",
   "execution_count": null,
   "id": "fd81fb41",
   "metadata": {},
   "outputs": [],
   "source": [
    "arch = \"vit\"\n",
    "use_entropy=False\n",
    "if arch == 'resnet':\n",
    "    backbone = ResNet18Backbone(resnet18(pretrained=True))\n",
    "    predictor =  Predictor(backbone)\n",
    "    block_layer_stride = 1\n",
    "    if mask_width == 14:\n",
    "        block_layer_stride = 0.5\n",
    "    value_network = ValueNetwork(backbone, block_layer_stride=block_layer_stride)\n",
    "else:\n",
    "    backbone = timm.create_model('vit_small_patch16_224', pretrained=True)\n",
    "    predictor =  PredictorViT(backbone)\n",
    "    value_network = ValueNetworViT(backbone, mask_width=mask_width, use_entropy=use_entropy)\n",
    "    \n",
    "predictor.load_state_dict(torch.load(\"results/predictor_trained_max_features_50_vit_small_patch16_224_lr_1e-5_use_entropy_True_zero_mask_width_14_save_best_perf.pth\"))\n",
    "value_network.load_state_dict(torch.load(f\"results/value_network_trained_max_features_50_vit_small_patch16_224_lr_1e-5_use_entropy_True_zero_mask_width_14_save_best_perf.pth\"))\n",
    "\n",
    "\n",
    "greedy_cmi_estimator = GreedyCMIEstimator(value_network, predictor, mask_layer).to(device)"
   ]
  },
  {
   "cell_type": "markdown",
   "id": "3a19ebda",
   "metadata": {},
   "source": [
    "# Evaluate Penalized Policy"
   ]
  },
  {
   "cell_type": "code",
   "execution_count": null,
   "id": "49ae20b8",
   "metadata": {},
   "outputs": [],
   "source": [
    "avg_num_features_lamda = []\n",
    "accuracy_scores_lamda = []\n",
    "all_masks_lamda =[]\n",
    "\n",
    "lamda_values = [0.02]#305] #list(np.geomspace(0.001, 0.3, num=10))\n",
    "for lamda in lamda_values:\n",
    "    metric_dict = greedy_cmi_estimator.evaluate(test_dataloader, performance_func=accuracy, \n",
    "                                                                    feature_costs=None, use_entropy=True, evaluation_mode='lamda-penalty', lamda=lamda)\n",
    "    \n",
    "    accuracy_score = metric_dict['performance']\n",
    "    final_masks = metric_dict['final_masks']\n",
    "    accuracy_scores_lamda.append(accuracy_score)\n",
    "    avg_num_features_lamda.append(np.mean(np.sum(final_masks, axis=1)))\n",
    "    print(f\"Lambda={lamda}, Acc={accuracy_score}, Avg. num features={np.mean(np.sum(final_masks, axis=1))}\")\n",
    "    all_masks_lamda.append(final_masks)\n"
   ]
  },
  {
   "cell_type": "markdown",
   "id": "f8af2052",
   "metadata": {},
   "source": [
    "# Evaluate Budget Constrained Policy"
   ]
  },
  {
   "cell_type": "code",
   "execution_count": null,
   "id": "8286d647",
   "metadata": {},
   "outputs": [],
   "source": [
    "avg_num_features_budget = []\n",
    "accuracy_scores_budget = []\n",
    "all_masks_budget=[]\n",
    "\n",
    "max_budget_values = [10] #list(range(1, 15, 1))\n",
    "for budget in max_budget_values:\n",
    "    metric_dict_budget = greedy_cmi_estimator.evaluate(test_dataloader, performance_func=accuracy, \n",
    "                                                                    feature_costs=None, evaluation_mode='fixed-budget', budget=budget)\n",
    "    \n",
    "    accuracy_score = metric_dict_budget['performance']\n",
    "    final_masks = metric_dict_budget['final_masks']\n",
    "    accuracy_scores_budget.append(accuracy_score)\n",
    "    avg_num_features_budget.append(np.mean(np.sum(final_masks, axis=1)))\n",
    "    print(f\"Budget={budget}, Acc={accuracy_score}, Avg. num features={np.mean(np.sum(final_masks, axis=1))}\")\n",
    "\n",
    "    all_masks_budget.append(final_masks)"
   ]
  },
  {
   "cell_type": "markdown",
   "id": "bafd0ca4",
   "metadata": {},
   "source": [
    "# Evaluate Confidence Constrained Policy"
   ]
  },
  {
   "cell_type": "code",
   "execution_count": null,
   "id": "e3ead263",
   "metadata": {},
   "outputs": [],
   "source": [
    "avg_num_features_confidence = []\n",
    "accuracy_scores_confidence = []\n",
    "all_masks_confidence=[]\n",
    "confidence_values = list(np.arange(0.1, 1, 0.1))\n",
    "\n",
    "for confidence in confidence_values:\n",
    "    metric_dict = greedy_cmi_estimator.evaluate(test_dataloader, performance_func=accuracy, \n",
    "                                                                    feature_costs=None, use_entropy=True, evaluation_mode='confidence', min_confidence=confidence)\n",
    "    \n",
    "    accuracy_score = metric_dict['performance']\n",
    "    final_masks = metric_dict['final_masks']\n",
    "    accuracy_scores_confidence.append(accuracy_score)\n",
    "    avg_num_features_confidence.append(np.mean(np.sum(final_masks, axis=1)))\n",
    "    print(f\"Confidence={confidence}, Acc={accuracy_score}, Avg. num features={np.mean(np.sum(final_masks, axis=1))}\")\n",
    "    all_masks_confidence.append(final_masks)"
   ]
  },
  {
   "cell_type": "code",
   "execution_count": null,
   "id": "32e47a51",
   "metadata": {},
   "outputs": [],
   "source": []
  }
 ],
 "metadata": {
  "kernelspec": {
   "display_name": "Python [conda env:adap_selec]",
   "language": "python",
   "name": "conda-env-adap_selec-py"
  },
  "language_info": {
   "codemirror_mode": {
    "name": "ipython",
    "version": 3
   },
   "file_extension": ".py",
   "mimetype": "text/x-python",
   "name": "python",
   "nbconvert_exporter": "python",
   "pygments_lexer": "ipython3",
   "version": "3.9.13"
  }
 },
 "nbformat": 4,
 "nbformat_minor": 5
}
