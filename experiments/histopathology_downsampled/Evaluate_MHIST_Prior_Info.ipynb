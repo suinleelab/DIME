{
 "cells": [
  {
   "cell_type": "code",
   "execution_count": 1,
   "id": "d466e709",
   "metadata": {
    "scrolled": true
   },
   "outputs": [],
   "source": [
    "import torch\n",
    "import pickle\n",
    "import argparse\n",
    "import numpy as np\n",
    "import torch.nn as nn\n",
    "from torchmetrics import AUROC\n",
    "from sklearn.metrics import accuracy_score\n",
    "from torch.utils.data import DataLoader, random_split\n",
    "from torchvision import transforms\n",
    "from torchvision.datasets import ImageFolder\n",
    "import os\n",
    "from fastai.vision.all import untar_data, URLs\n",
    "from torchvision import transforms\n",
    "import pandas as pd\n",
    "from experiments import MaskLayerGaussian, MaskLayer2d, HistopathologyDownsampledDataset, HistopathologyDownsampledEdgeDataset\n",
    "from dime.greedy_models import GreedyCMIEstimator\n",
    "from dime.masking_pretrainer_prior_info import MaskingPretrainerPriorInfo\n",
    "from dime.greedy_model_prior_info_pl import GreedyCMIEstimatorPLPriorInfo\n",
    "from dime.resnet_imagenet import resnet18, resnet34, Predictor, ValueNetwork, ResNet18Backbone, resnet50\n",
    "from dime.sketch_supervision_predictor import SketchSupervisionPredictor\n",
    "from dime.utils import accuracy, auc, normalize, selection_with_lamda, get_confidence\n",
    "from dime.vit import PredictorViT, ValueNetworViT, PredictorSemiSupervisedVit, ValueNetworkSemiSupervisedVit\n",
    "import timm\n",
    "from PIL import Image\n",
    "import matplotlib.pyplot as plt"
   ]
  },
  {
   "cell_type": "markdown",
   "id": "8cbcd17b",
   "metadata": {},
   "source": [
    "# Get Dataset"
   ]
  },
  {
   "cell_type": "code",
   "execution_count": null,
   "id": "7633ebfc",
   "metadata": {
    "scrolled": true
   },
   "outputs": [],
   "source": [
    "image_size = 224\n",
    "mask_width = 14\n",
    "mask_type = 'zero'\n",
    "if mask_type == 'gaussian':\n",
    "    mask_layer = MaskLayerGaussian(append=False, mask_width=mask_width, patch_size=image_size/mask_width)\n",
    "else:\n",
    "    mask_layer = MaskLayer2d(append=False, mask_width=mask_width, patch_size=image_size/mask_width)\n",
    "\n",
    "device = torch.device('cuda:6')\n",
    "\n",
    "norm_constants = ((0.4914, 0.4822, 0.4465), (0.2023, 0.1994, 0.2010))\n",
    "data_dir = '/projects/<labname>/<username>/hist_data/mhist/'\n",
    "transforms_test = transforms.Compose([\n",
    "        transforms.Resize(256),\n",
    "        transforms.CenterCrop(image_size),\n",
    "        transforms.ToTensor(),\n",
    "        transforms.Normalize(*norm_constants),\n",
    "    ])\n",
    "\n",
    "# Get test dataset\n",
    "df = pd.read_csv(data_dir + 'annotations.csv')\n",
    "test_dataset = HistopathologyDownsampledEdgeDataset(data_dir + 'images/', df.loc[df['Partition'] == 'test'], transforms_test)\n",
    "test_dataset_len = len(test_dataset)\n",
    "mbsize = 32\n",
    "\n",
    "\n",
    "# Split test dataset into val\n",
    "np.random.seed(0)\n",
    "val_inds = np.sort(np.random.choice(test_dataset_len, size=int(test_dataset_len*0.5), replace=False))\n",
    "test_inds = np.setdiff1d(np.arange(test_dataset_len), val_inds)\n",
    "\n",
    "val_dataset = torch.utils.data.Subset(test_dataset, val_inds)\n",
    "test_dataset = torch.utils.data.Subset(test_dataset, test_inds)\n",
    "test_dataloader = DataLoader(test_dataset, batch_size=mbsize, pin_memory=True, drop_last=True, num_workers=4)\n"
   ]
  },
  {
   "cell_type": "markdown",
   "id": "449fb0d5",
   "metadata": {},
   "source": [
    "# Load pretrained checkpoint"
   ]
  },
  {
   "cell_type": "code",
   "execution_count": null,
   "id": "ed27b60c",
   "metadata": {
    "scrolled": true
   },
   "outputs": [],
   "source": [
    "arch ='vit_small_patch16_224'\n",
    "pretrained_model_path = \"<path_to_pretrained_model>\"\n",
    "\n",
    "backbone1 = timm.create_model('vit_small_patch16_224', pretrained=True)\n",
    "backbone2 = timm.create_model('vit_small_patch16_224', pretrained=True)\n",
    "\n",
    "predictor =  PredictorSemiSupervisedVit(backbone1, backbone1, num_classes=2).to(device)\n",
    "value_network = ValueNetworkSemiSupervisedVit(backbone1, backbone1, use_entropy=True).to(device)\n",
    "    \n",
    "greedy_cmi_estimator = GreedyCMIEstimatorPLPriorInfo.load_from_checkpoint(pretrained_model_path,\n",
    "                                                                 value_network=value_network,\n",
    "                                                                 predictor=predictor,\n",
    "                                                                 mask_layer=mask_layer,\n",
    "                                                                 lr=1e-5,\n",
    "                                                                min_lr=1e-8,\n",
    "                                                                max_features=100,\n",
    "                                                                eps=0.05,\n",
    "                                                                loss_fn=nn.CrossEntropyLoss(reduction='none'),\n",
    "                                                                val_loss_fn=auc,\n",
    "                                                                eps_decay=True,\n",
    "                                                                eps_decay_rate=0.2,\n",
    "                                                                patience=3,\n",
    "                                                                feature_costs=None,\n",
    "                                                                use_entropy=True\n",
    "                                                        )\n"
   ]
  },
  {
   "cell_type": "markdown",
   "id": "bb8fdb37",
   "metadata": {},
   "source": [
    "# Evaluate Penalized Policy"
   ]
  },
  {
   "cell_type": "code",
   "execution_count": null,
   "id": "ba5ba5ec",
   "metadata": {
    "scrolled": true
   },
   "outputs": [],
   "source": [
    "avg_num_features_lamda = []\n",
    "accuracy_scores_lamda = []\n",
    "all_masks_lamda =[]\n",
    "\n",
    "# lamda_values = list(np.geomspace(0.0025, 0.04, num=12))\n",
    "# lamda_values = list(np.linspace(0.02, 0.04, num=12))\n",
    "lamda_values = [0.008]# = list(np.geomspace(0.002, 0.005, num=12))\n",
    "for lamda in lamda_values:\n",
    "    metric_dict = greedy_cmi_estimator.evaluate(test_dataloader, performance_func=auc, \n",
    "                                                                    feature_costs=None, use_entropy=True, evaluation_mode='lamda-penalty', lamda=lamda)\n",
    "    \n",
    "    accuracy_score = metric_dict['performance']\n",
    "    final_masks = metric_dict['final_masks']\n",
    "    accuracy_scores_lamda.append(accuracy_score)\n",
    "    avg_num_features_lamda.append(np.mean(np.sum(final_masks, axis=1)))\n",
    "    print(f\"Lambda={lamda}, Acc={accuracy_score}, Avg. num features={np.mean(np.sum(final_masks, axis=1))}\")\n",
    "    all_masks_lamda.append(final_masks)"
   ]
  },
  {
   "cell_type": "markdown",
   "id": "2e708b6f",
   "metadata": {},
   "source": [
    "# Evaluate Budget-Constrained Policy"
   ]
  },
  {
   "cell_type": "code",
   "execution_count": null,
   "id": "843d2e89",
   "metadata": {
    "scrolled": true
   },
   "outputs": [],
   "source": [
    "avg_num_features_budget = []\n",
    "accuracy_scores_budget = []\n",
    "all_masks_budget=[]\n",
    "\n",
    "max_budget_values = [2]+ list(range(10, 70, 10))\n",
    "for budget in max_budget_values:\n",
    "    metric_dict_budget = greedy_cmi_estimator.evaluate(test_dataloader, performance_func=auc, \n",
    "                                                                    feature_costs=None, use_entropy=True, evaluation_mode='fixed-budget', budget=budget)\n",
    "    \n",
    "    accuracy_score = metric_dict_budget['performance']\n",
    "    final_masks = metric_dict_budget['final_masks']\n",
    "    accuracy_scores_budget.append(accuracy_score)\n",
    "    avg_num_features_budget.append(np.mean(np.sum(final_masks, axis=1)))\n",
    "    print(f\"Budget={budget}, AUC={accuracy_score}, Avg. num features={np.mean(np.sum(final_masks, axis=1))}\")\n",
    "\n",
    "    all_masks_budget.append(final_masks)"
   ]
  }
 ],
 "metadata": {
  "kernelspec": {
   "display_name": "Python [conda env:adap_selec]",
   "language": "python",
   "name": "conda-env-adap_selec-py"
  },
  "language_info": {
   "codemirror_mode": {
    "name": "ipython",
    "version": 3
   },
   "file_extension": ".py",
   "mimetype": "text/x-python",
   "name": "python",
   "nbconvert_exporter": "python",
   "pygments_lexer": "ipython3",
   "version": "3.9.13"
  }
 },
 "nbformat": 4,
 "nbformat_minor": 5
}
