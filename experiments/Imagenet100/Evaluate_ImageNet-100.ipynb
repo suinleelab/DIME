{
 "cells": [
  {
   "cell_type": "code",
   "execution_count": 1,
   "id": "a73d16a3",
   "metadata": {},
   "outputs": [
    {
     "name": "stderr",
     "output_type": "stream",
     "text": [
      "/homes/gws/sgadgil/.local/lib/python3.9/site-packages/tqdm/auto.py:21: TqdmWarning: IProgress not found. Please update jupyter and ipywidgets. See https://ipywidgets.readthedocs.io/en/stable/user_install.html\n",
      "  from .autonotebook import tqdm as notebook_tqdm\n"
     ]
    }
   ],
   "source": [
    "import torch\n",
    "import pickle\n",
    "import argparse\n",
    "import numpy as np\n",
    "import torch.nn as nn\n",
    "from torchmetrics import Accuracy\n",
    "from torch.utils.data import DataLoader, random_split\n",
    "from torchvision import transforms\n",
    "from torchvision.datasets import ImageFolder\n",
    "import os\n",
    "from fastai.vision.all import untar_data, URLs\n",
    "from dime.utils import MaskLayer2d\n",
    "from dime import CMIEstimator\n",
    "from pytorch_lightning import Trainer\n",
    "from dime.masking_pretrainer import MaskingPretrainer\n",
    "from dime.resnet_imagenet import resnet18, Predictor, ValueNetwork, ResNet18Backbone, resnet50\n",
    "from dime.vit import PredictorViT, ValueNetworkViT\n",
    "import timm\n",
    "import matplotlib.pyplot as plt"
   ]
  },
  {
   "cell_type": "markdown",
   "id": "f8ecba63",
   "metadata": {},
   "source": [
    "# Get Dataset"
   ]
  },
  {
   "cell_type": "code",
   "execution_count": 2,
   "id": "f29a18d8",
   "metadata": {},
   "outputs": [],
   "source": [
    "acc_metric = Accuracy(task='multiclass', num_classes=100)\n",
    "\n",
    "image_size = 224\n",
    "mask_width = 14\n",
    "mask_type = 'zero'\n",
    "mask_layer = MaskLayer2d(append=False, mask_width=mask_width, patch_size=image_size/mask_width)\n",
    "\n",
    "device = torch.device('cuda:5')\n",
    "\n",
    "norm_constants = ((0.4914, 0.4822, 0.4465), (0.2023, 0.1994, 0.2010))\n",
    "\n",
    "transforms_test = transforms.Compose([\n",
    "        transforms.Resize(256),\n",
    "        transforms.CenterCrop(image_size),\n",
    "        transforms.ToTensor(),\n",
    "        transforms.Normalize(*norm_constants),\n",
    "    ])\n",
    "\n",
    "dataset_path = \"/projects/leelab2/sgadgil/ImageNet100\"\n",
    "test_dataset = ImageFolder(dataset_path+'/val.X', transforms_test)\n",
    "\n",
    "# Prepare dataloaders.\n",
    "mbsize = 32\n",
    "test_dataloader = DataLoader(test_dataset, batch_size=mbsize, pin_memory=True, num_workers=4)\n"
   ]
  },
  {
   "cell_type": "markdown",
   "id": "ae70682d",
   "metadata": {},
   "source": [
    "# Load pretrained model"
   ]
  },
  {
   "cell_type": "code",
   "execution_count": 3,
   "id": "16dea922",
   "metadata": {},
   "outputs": [
    {
     "name": "stderr",
     "output_type": "stream",
     "text": [
      "Global seed set to 42\n"
     ]
    },
    {
     "name": "stdout",
     "output_type": "stream",
     "text": [
      "Hello\n"
     ]
    },
    {
     "name": "stderr",
     "output_type": "stream",
     "text": [
      "Using 16bit None Automatic Mixed Precision (AMP)\n",
      "GPU available: True (cuda), used: True\n",
      "TPU available: False, using: 0 TPU cores\n",
      "IPU available: False, using: 0 IPUs\n",
      "HPU available: False, using: 0 HPUs\n"
     ]
    }
   ],
   "source": [
    "arch = \"vit_small_patch16_224\"\n",
    "path = \"/projects/leelab/sgadgil/Projects/DIME/experiments/Imagenet100/logs/max_features_50_vit_small_patch16_224_trial_1/version_1/checkpoints/best_val_perfomance_model.ckpt\"\n",
    "\n",
    "if arch in ['resnet18']:\n",
    "    backbone, expansion = ResNet18Backbone(eval(arch + '(pretrained=True)'))\n",
    "    predictor =  Predictor(backbone, expansion, num_classes=100)\n",
    "    block_layer_stride = 1\n",
    "    if mask_width == 14:\n",
    "        block_layer_stride = 0.5\n",
    "    value_network = ValueNetwork(backbone, expansion, block_layer_stride=block_layer_stride)\n",
    "else:\n",
    "    backbone = timm.create_model(arch, pretrained=True)\n",
    "    predictor =  PredictorViT(backbone, num_classes=100)\n",
    "    value_network = ValueNetworkViT(backbone)\n",
    "    \n",
    "greedy_cmi_estimator = CMIEstimator.load_from_checkpoint(path,\n",
    "                                                         value_network=value_network,\n",
    "                                                         predictor=predictor,\n",
    "                                                         mask_layer=mask_layer,\n",
    "                                                         lr=1e-5,\n",
    "                                                         min_lr=1e-8,\n",
    "                                                         max_features=50,\n",
    "                                                         eps=0.05,\n",
    "                                                         loss_fn=nn.CrossEntropyLoss(reduction='none'),\n",
    "                                                         val_loss_fn=acc_metric,\n",
    "                                                         eps_decay=0.2,\n",
    "                                                         eps_steps=10,\n",
    "                                                         patience=3,\n",
    "                                                         feature_costs=None)\n",
    "trainer = Trainer(\n",
    "                    accelerator='gpu',\n",
    "                    devices=[device.index],\n",
    "                    precision=16\n",
    "                )"
   ]
  },
  {
   "cell_type": "markdown",
   "id": "9f130e44",
   "metadata": {},
   "source": [
    "# Evaluate Penalized Policy"
   ]
  },
  {
   "cell_type": "code",
   "execution_count": null,
   "id": "1419d0c7",
   "metadata": {},
   "outputs": [
    {
     "name": "stderr",
     "output_type": "stream",
     "text": [
      "LOCAL_RANK: 0 - CUDA_VISIBLE_DEVICES: [0,1,2,3,4,5,6,7]\n"
     ]
    },
    {
     "name": "stdout",
     "output_type": "stream",
     "text": [
      "Predicting DataLoader 0: 100%|████████████████| 157/157 [11:39<00:00,  4.45s/it]\n"
     ]
    },
    {
     "name": "stderr",
     "output_type": "stream",
     "text": [
      "LOCAL_RANK: 0 - CUDA_VISIBLE_DEVICES: [0,1,2,3,4,5,6,7]\n"
     ]
    },
    {
     "name": "stdout",
     "output_type": "stream",
     "text": [
      "Lambda=0.005, Acc=0.8636000156402588, Avg. num features=43.07740020751953\n",
      "Predicting DataLoader 0: 100%|████████████████| 157/157 [11:17<00:00,  4.31s/it]\n",
      "Lambda=0.005884519781214263, Acc=0.8605999946594238, Avg. num features=40.370399475097656\n"
     ]
    },
    {
     "name": "stderr",
     "output_type": "stream",
     "text": [
      "LOCAL_RANK: 0 - CUDA_VISIBLE_DEVICES: [0,1,2,3,4,5,6,7]\n"
     ]
    },
    {
     "name": "stdout",
     "output_type": "stream",
     "text": [
      "Predicting DataLoader 0: 100%|████████████████| 157/157 [10:53<00:00,  4.17s/it]\n",
      "Lambda=0.006925514611100392, Acc=0.8565999865531921, Avg. num features=37.6265983581543\n"
     ]
    },
    {
     "name": "stderr",
     "output_type": "stream",
     "text": [
      "LOCAL_RANK: 0 - CUDA_VISIBLE_DEVICES: [0,1,2,3,4,5,6,7]\n"
     ]
    },
    {
     "name": "stdout",
     "output_type": "stream",
     "text": [
      "Predicting DataLoader 0: 100%|████████████████| 157/157 [10:24<00:00,  3.98s/it]\n",
      "Lambda=0.008150665544821734, Acc=0.8501999974250793, Avg. num features=34.70719909667969\n"
     ]
    },
    {
     "name": "stderr",
     "output_type": "stream",
     "text": [
      "LOCAL_RANK: 0 - CUDA_VISIBLE_DEVICES: [0,1,2,3,4,5,6,7]\n"
     ]
    },
    {
     "name": "stdout",
     "output_type": "stream",
     "text": [
      "Predicting DataLoader 0: 100%|████████████████| 157/157 [09:59<00:00,  3.82s/it]\n",
      "Lambda=0.009592550525713004, Acc=0.848800003528595, Avg. num features=31.927799224853516\n"
     ]
    },
    {
     "name": "stderr",
     "output_type": "stream",
     "text": [
      "LOCAL_RANK: 0 - CUDA_VISIBLE_DEVICES: [0,1,2,3,4,5,6,7]\n"
     ]
    },
    {
     "name": "stdout",
     "output_type": "stream",
     "text": [
      "Predicting DataLoader 0: 100%|████████████████| 157/157 [09:32<00:00,  3.65s/it]\n",
      "Lambda=0.011289510664171094, Acc=0.8442000150680542, Avg. num features=29.156600952148438\n"
     ]
    },
    {
     "name": "stderr",
     "output_type": "stream",
     "text": [
      "LOCAL_RANK: 0 - CUDA_VISIBLE_DEVICES: [0,1,2,3,4,5,6,7]\n"
     ]
    },
    {
     "name": "stdout",
     "output_type": "stream",
     "text": [
      "Predicting DataLoader 0:  69%|███████████     | 109/157 [06:25<02:49,  3.54s/it]"
     ]
    }
   ],
   "source": [
    "avg_num_features_lamda = []\n",
    "accuracy_scores_lamda = []\n",
    "all_masks_lamda =[]\n",
    "\n",
    "lamda_values = list(np.geomspace(0.005, 0.03, num=12))\n",
    "for lamda in lamda_values:\n",
    "    metric_dict = greedy_cmi_estimator.inference(trainer, test_dataloader, feature_costs=None, lam=lamda)\n",
    "        \n",
    "    y = metric_dict['y']\n",
    "    pred = metric_dict['pred']\n",
    "    accuracy_score = acc_metric(pred, y)\n",
    "    final_masks = np.array(metric_dict['mask'])\n",
    "    accuracy_scores_lamda.append(accuracy_score)\n",
    "    avg_num_features_lamda.append(np.mean(np.sum(final_masks, axis=1)))\n",
    "#     results_dict['acc'][np.mean(np.sum(final_masks, axis=1))] = accuracy_score\n",
    "\n",
    "    print(f\"Lambda={lamda}, Acc={accuracy_score}, Avg. num features={np.mean(np.sum(final_masks, axis=1))}\")\n",
    "    all_masks_lamda.append(final_masks)"
   ]
  },
  {
   "cell_type": "markdown",
   "id": "5666ee75",
   "metadata": {},
   "source": [
    "# Evaluate Budget Constrained Policy"
   ]
  },
  {
   "cell_type": "code",
   "execution_count": 4,
   "id": "fcedfac0",
   "metadata": {},
   "outputs": [
    {
     "name": "stderr",
     "output_type": "stream",
     "text": [
      "LOCAL_RANK: 0 - CUDA_VISIBLE_DEVICES: [0,1,2,3,4,5,6,7]\n"
     ]
    },
    {
     "name": "stdout",
     "output_type": "stream",
     "text": [
      "Predicting DataLoader 0: 100%|████████████████| 157/157 [00:24<00:00,  6.33it/s]\n",
      "Budget=1.0, Acc=0.21140000224113464, Avg. num features=1.0\n"
     ]
    },
    {
     "name": "stderr",
     "output_type": "stream",
     "text": [
      "LOCAL_RANK: 0 - CUDA_VISIBLE_DEVICES: [0,1,2,3,4,5,6,7]\n"
     ]
    },
    {
     "name": "stdout",
     "output_type": "stream",
     "text": [
      "Predicting DataLoader 0: 100%|████████████████| 157/157 [00:29<00:00,  5.33it/s]\n",
      "Budget=5.0, Acc=0.5645999908447266, Avg. num features=5.0\n"
     ]
    },
    {
     "name": "stderr",
     "output_type": "stream",
     "text": [
      "LOCAL_RANK: 0 - CUDA_VISIBLE_DEVICES: [0,1,2,3,4,5,6,7]\n"
     ]
    },
    {
     "name": "stdout",
     "output_type": "stream",
     "text": [
      "Predicting DataLoader 0: 100%|████████████████| 157/157 [00:52<00:00,  3.00it/s]\n",
      "Budget=10.0, Acc=0.7120000123977661, Avg. num features=10.0\n"
     ]
    },
    {
     "name": "stderr",
     "output_type": "stream",
     "text": [
      "LOCAL_RANK: 0 - CUDA_VISIBLE_DEVICES: [0,1,2,3,4,5,6,7]\n"
     ]
    },
    {
     "name": "stdout",
     "output_type": "stream",
     "text": [
      "Predicting DataLoader 0: 100%|████████████████| 157/157 [01:15<00:00,  2.08it/s]\n",
      "Budget=15.0, Acc=0.7627999782562256, Avg. num features=15.0\n"
     ]
    },
    {
     "name": "stderr",
     "output_type": "stream",
     "text": [
      "LOCAL_RANK: 0 - CUDA_VISIBLE_DEVICES: [0,1,2,3,4,5,6,7]\n"
     ]
    },
    {
     "name": "stdout",
     "output_type": "stream",
     "text": [
      "Predicting DataLoader 0: 100%|████████████████| 157/157 [01:38<00:00,  1.59it/s]\n",
      "Budget=20.0, Acc=0.7820000052452087, Avg. num features=20.0\n"
     ]
    },
    {
     "name": "stderr",
     "output_type": "stream",
     "text": [
      "LOCAL_RANK: 0 - CUDA_VISIBLE_DEVICES: [0,1,2,3,4,5,6,7]\n"
     ]
    },
    {
     "name": "stdout",
     "output_type": "stream",
     "text": [
      "Predicting DataLoader 0: 100%|████████████████| 157/157 [02:01<00:00,  1.29it/s]\n",
      "Budget=25.0, Acc=0.7990000247955322, Avg. num features=25.0\n"
     ]
    },
    {
     "name": "stderr",
     "output_type": "stream",
     "text": [
      "LOCAL_RANK: 0 - CUDA_VISIBLE_DEVICES: [0,1,2,3,4,5,6,7]\n"
     ]
    },
    {
     "name": "stdout",
     "output_type": "stream",
     "text": [
      "Predicting DataLoader 0: 100%|████████████████| 157/157 [02:24<00:00,  1.08it/s]\n",
      "Budget=30.0, Acc=0.8105999827384949, Avg. num features=30.0\n"
     ]
    }
   ],
   "source": [
    "avg_num_features_budget = []\n",
    "accuracy_scores_budget = []\n",
    "all_masks_budget=[]\n",
    "\n",
    "max_budget_values = [1.0, 5.0, 10.0, 15.0, 20.0, 25.0, 30.0]\n",
    "for budget in max_budget_values:\n",
    "    metric_dict_budget = greedy_cmi_estimator.inference(trainer, test_dataloader, feature_costs=None, budget=budget)\n",
    "        \n",
    "    y = metric_dict_budget['y']\n",
    "    pred = metric_dict_budget['pred']\n",
    "    accuracy_score = acc_metric(pred, y)\n",
    "    final_masks = np.array(metric_dict_budget['mask'])\n",
    "    accuracy_scores_budget.append(accuracy_score.numpy().item())\n",
    "    avg_num_features_budget.append(np.mean(np.sum(final_masks, axis=1)))\n",
    "#     results_dict['acc'][np.mean(np.sum(final_masks, axis=1))] = accuracy_score\n",
    "    print(f\"Budget={budget}, Acc={accuracy_score}, Avg. num features={np.mean(np.sum(final_masks, axis=1))}\")\n",
    "\n",
    "    all_masks_budget.append(final_masks)"
   ]
  },
  {
   "cell_type": "code",
   "execution_count": 5,
   "id": "1aa47bae",
   "metadata": {},
   "outputs": [
    {
     "data": {
      "text/plain": [
       "[tensor(0.2114),\n",
       " tensor(0.5646),\n",
       " tensor(0.7120),\n",
       " tensor(0.7628),\n",
       " tensor(0.7820),\n",
       " tensor(0.7990),\n",
       " tensor(0.8106)]"
      ]
     },
     "execution_count": 5,
     "metadata": {},
     "output_type": "execute_result"
    }
   ],
   "source": [
    "accuracy_scores_budget"
   ]
  },
  {
   "cell_type": "markdown",
   "id": "0989d89d",
   "metadata": {},
   "source": [
    "# Evaluate Confidence Constrained Policy"
   ]
  },
  {
   "cell_type": "code",
   "execution_count": null,
   "id": "f9d2a8d0",
   "metadata": {},
   "outputs": [],
   "source": [
    "avg_num_features_confidence = []\n",
    "accuracy_scores_confidence = []\n",
    "all_masks_confidence=[]\n",
    "confidence_values = list(np.arange(0.1, 1, 0.1))\n",
    "\n",
    "for confidence in confidence_values:\n",
    "    metric_dict = greedy_cmi_estimator.inference(trainer, test_dataloader, feature_costs=None, confidence=confidence)\n",
    "    y = metric_dict['y']\n",
    "    pred = metric_dict'pred']\n",
    "    accuracy_score = acc_metric(pred, y)\n",
    "\n",
    "    final_masks = np.array(metric_dict['mask'])\n",
    "    accuracy_scores_confidence.append(accuracy_score)\n",
    "    avg_num_features_confidence.append(np.mean(np.sum(final_masks, axis=1)))\n",
    "    print(f\"Confidence={confidence}, Acc={accuracy_score}, Avg. num features={np.mean(np.sum(final_masks, axis=1))}\")\n",
    "    all_masks_confidence.append(final_masks)"
   ]
  }
 ],
 "metadata": {
  "kernelspec": {
   "display_name": "Python [conda env:DIME]",
   "language": "python",
   "name": "conda-env-DIME-py"
  },
  "language_info": {
   "codemirror_mode": {
    "name": "ipython",
    "version": 3
   },
   "file_extension": ".py",
   "mimetype": "text/x-python",
   "name": "python",
   "nbconvert_exporter": "python",
   "pygments_lexer": "ipython3",
   "version": "3.9.17"
  }
 },
 "nbformat": 4,
 "nbformat_minor": 5
}
