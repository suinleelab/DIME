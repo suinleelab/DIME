{
 "cells": [
  {
   "cell_type": "code",
   "execution_count": 1,
   "id": "077880ce",
   "metadata": {},
   "outputs": [],
   "source": [
    "import torch\n",
    "import feature_groups\n",
    "import pickle\n",
    "import argparse\n",
    "import numpy as np\n",
    "import torch.nn as nn\n",
    "from torchmetrics import AUROC,Accuracy\n",
    "from torch.utils.data import DataLoader, random_split\n",
    "import os\n",
    "from os import path\n",
    "from dime.data_utils import DenseDatasetSelected, get_group_matrix, get_xy, data_split\n",
    "from dime.utils import MaskLayerGrouped\n",
    "from dime import MaskingPretrainer, CMIEstimator\n",
    "from pytorch_lightning import Trainer\n",
    "import matplotlib.pyplot as plt\n",
    "import pandas as pd\n",
    "import pickle"
   ]
  },
  {
   "cell_type": "markdown",
   "id": "bd11790a",
   "metadata": {},
   "source": [
    "# Load Dataset"
   ]
  },
  {
   "cell_type": "code",
   "execution_count": 2,
   "id": "ff6c13be",
   "metadata": {},
   "outputs": [
    {
     "name": "stdout",
     "output_type": "stream",
     "text": [
      "Index(['0', '1', '2', '3', '4', '5', '6', '7', '8', '9',\n",
      "       ...\n",
      "       '103', '104', '105', '106', '107', '108', '109', '110', '111',\n",
      "       'Outcome'],\n",
      "      dtype='object', length=113)\n"
     ]
    }
   ],
   "source": [
    "auc_metric = AUROC(task='multiclass', num_classes=2)\n",
    "acc_metric = Accuracy(task='multiclass', num_classes=2)\n",
    "intub_feature_names = feature_groups.intub_feature_names\n",
    "intub_feature_groups = feature_groups.intub_feature_groups\n",
    "device = torch.device('cuda', 1)\n",
    "\n",
    "cols_to_drop = []\n",
    "if cols_to_drop is not None:\n",
    "    intub_feature_names = [item for item in intub_feature_names if str(intub_feature_names.index(item)) not in cols_to_drop]\n",
    "\n",
    "# Load dataset\n",
    "dataset = DenseDatasetSelected('data/intub.csv', cols_to_drop=cols_to_drop)\n",
    "d_in = dataset.X.shape[1]  # 121\n",
    "d_out = len(np.unique(dataset.Y))  # 2\n",
    "feature_groups_dict, feature_groups_mask = get_group_matrix(intub_feature_names, intub_feature_groups)\n",
    "num_groups = len(feature_groups_mask) \n",
    "train_dataset, val_dataset, test_dataset = random_split(dataset, [0.8, 0.1, 0.1], generator=torch.Generator().manual_seed(0))\n",
    "# Find mean/variance for normalizing\n",
    "x, y = get_xy(train_dataset)\n",
    "mean = np.mean(x, axis=0)\n",
    "std = np.std(y, axis=0)\n",
    "\n",
    "# Normalize via the original dataset\n",
    "dataset.X = dataset.X - mean\n"
   ]
  },
  {
   "cell_type": "markdown",
   "id": "ec9db45a",
   "metadata": {},
   "source": [
    "# Set up networks"
   ]
  },
  {
   "cell_type": "code",
   "execution_count": 3,
   "id": "a438b433",
   "metadata": {},
   "outputs": [
    {
     "name": "stdout",
     "output_type": "stream",
     "text": [
      "2\n"
     ]
    },
    {
     "name": "stderr",
     "output_type": "stream",
     "text": [
      "Using 16bit None Automatic Mixed Precision (AMP)\n",
      "GPU available: True (cuda), used: True\n",
      "TPU available: False, using: 0 TPU cores\n",
      "IPU available: False, using: 0 IPUs\n",
      "HPU available: False, using: 0 HPUs\n"
     ]
    }
   ],
   "source": [
    "# Set up architecture\n",
    "hidden = 128\n",
    "dropout = 0.3\n",
    "d_in = dataset.X.shape[1]  # 121\n",
    "d_out = len(np.unique(dataset.Y))  # 2\n",
    "print(d_out)\n",
    "# Outcome Predictor\n",
    "predictor = nn.Sequential(\n",
    "    nn.Linear(d_in + num_groups, hidden),\n",
    "    nn.ReLU(),\n",
    "    nn.Dropout(dropout),\n",
    "    nn.Linear(hidden, hidden),\n",
    "    nn.ReLU(),\n",
    "    nn.Dropout(dropout),\n",
    "    nn.Linear(hidden, d_out)).to(device)\n",
    "\n",
    "# CMI Predictor\n",
    "value_network = nn.Sequential(\n",
    "    nn.Linear(d_in + num_groups, hidden),\n",
    "    nn.ReLU(),\n",
    "    nn.Dropout(dropout),\n",
    "    nn.Linear(hidden, hidden),\n",
    "    nn.ReLU(),\n",
    "    nn.Dropout(dropout),\n",
    "    nn.Linear(hidden, num_groups)).to(device)\n",
    "\n",
    "test_dataloader = DataLoader(\n",
    "        test_dataset, batch_size=128, shuffle=False, pin_memory=True, num_workers=4)\n",
    "\n",
    "val_dataloader = DataLoader(\n",
    "        val_dataset, batch_size=128, shuffle=False, pin_memory=True, num_workers=4)\n",
    "\n",
    "\n",
    "mask_layer = MaskLayerGrouped(append=True, group_matrix=torch.tensor(feature_groups_mask))\n",
    "\n",
    "trainer = Trainer(\n",
    "                    accelerator='gpu',\n",
    "                    devices=[device.index],\n",
    "                    precision=16\n",
    "                )"
   ]
  },
  {
   "cell_type": "markdown",
   "id": "bdd03282",
   "metadata": {},
   "source": [
    "# Evaluate Penalized Policy"
   ]
  },
  {
   "cell_type": "code",
   "execution_count": null,
   "id": "0ddf9e59",
   "metadata": {},
   "outputs": [],
   "source": [
    "for trial in range(5):\n",
    "    results_dict = {\"acc\": {}}\n",
    "    trained_model_path = f\"<path_to_trained_model>\"\n",
    "    greedy_cmi_estimator = CMIEstimator.load_from_checkpoint(trained_model_path,\n",
    "                                                             value_network=value_network,\n",
    "                                                             predictor=predictor,\n",
    "                                                             mask_layer=mask_layer,\n",
    "                                                             lr=1e-3,\n",
    "                                                             max_features=30,\n",
    "                                                             eps=0.1,\n",
    "                                                             loss_fn=nn.CrossEntropyLoss(reduction='none'),\n",
    "                                                             val_loss_fn=auc_metric,\n",
    "                                                             eps_decay=0.2,\n",
    "                                                             eps_steps=10,\n",
    "                                                             patience=5,\n",
    "                                                             feature_costs=None\n",
    "                                                            ).to(device)\n",
    "    avg_num_features_lambda = []\n",
    "    accuracy_scores_lambda = []\n",
    "    all_masks_lambda=[]\n",
    "    # Evaluation Mode lambda penalty\n",
    "    lamda_values = [0.000001, 0.00001, 0.00007, 0.0003, 0.0005] + [0.0012, 0.016] \n",
    "\n",
    "    for lamda in lamda_values:\n",
    "        metric_dict = greedy_cmi_estimator.inference(trainer, test_dataloader,feature_costs=None, lam=lamda)\n",
    "    \n",
    "        y = metric_dict['y']\n",
    "        pred = metric_dict['pred']\n",
    "        auc_score = acc_metric(pred, y)\n",
    "        final_masks = np.array(metric_dict['mask'])\n",
    "        accuracy_scores_lamda.append(auc_score)\n",
    "        avg_num_features_lamda.append(np.mean(np.sum(final_masks, axis=1)))\n",
    "        results_dict['acc'][np.mean(np.sum(final_masks, axis=1))] = accuracy_score\n",
    "\n",
    "        print(f\"Lambda={lamda}, AUROC={accuracy_score}, Avg. num features={np.mean(np.sum(final_masks, axis=1))}\")\n",
    "        all_masks_lamda.append(final_masks)\n",
    "    \n",
    "    with open(f'results/intub_lamda_ours_trial_{trial}.pkl', 'wb') as f:\n",
    "        pickle.dump(results_dict, f)\n"
   ]
  },
  {
   "cell_type": "markdown",
   "id": "0ed40419",
   "metadata": {},
   "source": [
    "# Evaluate with Budget Constrained Policy"
   ]
  },
  {
   "cell_type": "code",
   "execution_count": 4,
   "id": "4b6ba0bf",
   "metadata": {
    "scrolled": true
   },
   "outputs": [
    {
     "name": "stderr",
     "output_type": "stream",
     "text": [
      "LOCAL_RANK: 0 - CUDA_VISIBLE_DEVICES: [0,1,2,3,4,5,6,7]\n"
     ]
    },
    {
     "name": "stdout",
     "output_type": "stream",
     "text": [
      "Predicting DataLoader 0: 100%|██████████████████████████████████████████████████████████████████████████████████████████████████████████████████████████████████████████████| 52/52 [00:01<00:00, 44.96it/s]\n",
      "Rebalanced accuracy: 0.6188901516607279\n"
     ]
    },
    {
     "name": "stderr",
     "output_type": "stream",
     "text": [
      "LOCAL_RANK: 0 - CUDA_VISIBLE_DEVICES: [0,1,2,3,4,5,6,7]\n"
     ]
    },
    {
     "name": "stdout",
     "output_type": "stream",
     "text": [
      "Budget=1, AUROC=0.8760494589805603, Avg. num features=1.0\n",
      "Predicting DataLoader 0: 100%|██████████████████████████████████████████████████████████████████████████████████████████████████████████████████████████████████████████████| 52/52 [00:00<00:00, 72.70it/s]\n",
      "Rebalanced accuracy: 0.6327124705124474\n",
      "Budget=2, AUROC=0.8795603513717651, Avg. num features=2.0\n"
     ]
    },
    {
     "name": "stderr",
     "output_type": "stream",
     "text": [
      "LOCAL_RANK: 0 - CUDA_VISIBLE_DEVICES: [0,1,2,3,4,5,6,7]\n"
     ]
    },
    {
     "name": "stdout",
     "output_type": "stream",
     "text": [
      "Predicting DataLoader 0: 100%|██████████████████████████████████████████████████████████████████████████████████████████████████████████████████████████████████████████████| 52/52 [00:00<00:00, 58.15it/s]\n",
      "Rebalanced accuracy: 0.6488139095233127\n"
     ]
    },
    {
     "name": "stderr",
     "output_type": "stream",
     "text": [
      "LOCAL_RANK: 0 - CUDA_VISIBLE_DEVICES: [0,1,2,3,4,5,6,7]\n"
     ]
    },
    {
     "name": "stdout",
     "output_type": "stream",
     "text": [
      "Budget=3, AUROC=0.8833765983581543, Avg. num features=3.0\n",
      "Predicting DataLoader 0: 100%|██████████████████████████████████████████████████████████████████████████████████████████████████████████████████████████████████████████████| 52/52 [00:01<00:00, 46.88it/s]\n"
     ]
    },
    {
     "name": "stderr",
     "output_type": "stream",
     "text": [
      "LOCAL_RANK: 0 - CUDA_VISIBLE_DEVICES: [0,1,2,3,4,5,6,7]\n"
     ]
    },
    {
     "name": "stdout",
     "output_type": "stream",
     "text": [
      "Rebalanced accuracy: 0.6580201567667184\n",
      "Budget=4, AUROC=0.8847504258155823, Avg. num features=4.0\n",
      "Predicting DataLoader 0: 100%|██████████████████████████████████████████████████████████████████████████████████████████████████████████████████████████████████████████████| 52/52 [00:01<00:00, 40.86it/s]\n"
     ]
    },
    {
     "name": "stderr",
     "output_type": "stream",
     "text": [
      "LOCAL_RANK: 0 - CUDA_VISIBLE_DEVICES: [0,1,2,3,4,5,6,7]\n"
     ]
    },
    {
     "name": "stdout",
     "output_type": "stream",
     "text": [
      "Rebalanced accuracy: 0.6599691261435863\n",
      "Budget=5, AUROC=0.8852083683013916, Avg. num features=5.0\n",
      "Predicting DataLoader 0: 100%|██████████████████████████████████████████████████████████████████████████████████████████████████████████████████████████████████████████████| 52/52 [00:01<00:00, 35.23it/s]\n",
      "Rebalanced accuracy: 0.6530709147043375\n",
      "Budget=6, AUROC=0.884903073310852, Avg. num features=6.0\n"
     ]
    },
    {
     "name": "stderr",
     "output_type": "stream",
     "text": [
      "LOCAL_RANK: 0 - CUDA_VISIBLE_DEVICES: [0,1,2,3,4,5,6,7]\n"
     ]
    },
    {
     "name": "stdout",
     "output_type": "stream",
     "text": [
      "Predicting DataLoader 0: 100%|██████████████████████████████████████████████████████████████████████████████████████████████████████████████████████████████████████████████| 52/52 [00:01<00:00, 30.96it/s]\n",
      "Rebalanced accuracy: 0.6555904190389391\n",
      "Budget=7, AUROC=0.884903073310852, Avg. num features=7.0\n"
     ]
    },
    {
     "name": "stderr",
     "output_type": "stream",
     "text": [
      "LOCAL_RANK: 0 - CUDA_VISIBLE_DEVICES: [0,1,2,3,4,5,6,7]\n"
     ]
    },
    {
     "name": "stdout",
     "output_type": "stream",
     "text": [
      "Predicting DataLoader 0: 100%|██████████████████████████████████████████████████████████████████████████████████████████████████████████████████████████████████████████████| 52/52 [00:02<00:00, 24.36it/s]\n",
      "Rebalanced accuracy: 0.6713038759775044\n",
      "Budget=8, AUROC=0.8873454332351685, Avg. num features=8.0\n"
     ]
    },
    {
     "name": "stderr",
     "output_type": "stream",
     "text": [
      "LOCAL_RANK: 0 - CUDA_VISIBLE_DEVICES: [0,1,2,3,4,5,6,7]\n"
     ]
    },
    {
     "name": "stdout",
     "output_type": "stream",
     "text": [
      "Predicting DataLoader 0: 100%|██████████████████████████████████████████████████████████████████████████████████████████████████████████████████████████████████████████████| 52/52 [00:03<00:00, 16.95it/s]\n",
      "Rebalanced accuracy: 0.6704062099092818\n",
      "Budget=9, AUROC=0.8858189582824707, Avg. num features=9.0\n"
     ]
    },
    {
     "name": "stderr",
     "output_type": "stream",
     "text": [
      "LOCAL_RANK: 0 - CUDA_VISIBLE_DEVICES: [0,1,2,3,4,5,6,7]\n"
     ]
    },
    {
     "name": "stdout",
     "output_type": "stream",
     "text": [
      "Predicting DataLoader 0: 100%|██████████████████████████████████████████████████████████████████████████████████████████████████████████████████████████████████████████████| 52/52 [00:03<00:00, 15.45it/s]"
     ]
    },
    {
     "name": "stderr",
     "output_type": "stream",
     "text": [
      "LOCAL_RANK: 0 - CUDA_VISIBLE_DEVICES: [0,1,2,3,4,5,6,7]\n"
     ]
    },
    {
     "name": "stdout",
     "output_type": "stream",
     "text": [
      "\n",
      "Rebalanced accuracy: 0.6736149314534504\n",
      "Budget=10, AUROC=0.88627690076828, Avg. num features=10.0\n",
      "Predicting DataLoader 0: 100%|██████████████████████████████████████████████████████████████████████████████████████████████████████████████████████████████████████████████| 52/52 [00:03<00:00, 14.03it/s]"
     ]
    },
    {
     "name": "stderr",
     "output_type": "stream",
     "text": [
      "LOCAL_RANK: 0 - CUDA_VISIBLE_DEVICES: [0,1,2,3,4,5,6,7]\n"
     ]
    },
    {
     "name": "stdout",
     "output_type": "stream",
     "text": [
      "\n",
      "Rebalanced accuracy: 0.6788015380194979\n",
      "Budget=11, AUROC=0.8879560232162476, Avg. num features=11.0\n",
      "Predicting DataLoader 0: 100%|██████████████████████████████████████████████████████████████████████████████████████████████████████████████████████████████████████████████| 52/52 [00:03<00:00, 13.09it/s]"
     ]
    },
    {
     "name": "stderr",
     "output_type": "stream",
     "text": [
      "LOCAL_RANK: 0 - CUDA_VISIBLE_DEVICES: [0,1,2,3,4,5,6,7]\n"
     ]
    },
    {
     "name": "stdout",
     "output_type": "stream",
     "text": [
      "\n",
      "Rebalanced accuracy: 0.6762531180398853\n",
      "Budget=12, AUROC=0.8871927857398987, Avg. num features=12.0\n",
      "Predicting DataLoader 0: 100%|██████████████████████████████████████████████████████████████████████████████████████████████████████████████████████████████████████████████| 52/52 [00:04<00:00, 12.29it/s]"
     ]
    },
    {
     "name": "stderr",
     "output_type": "stream",
     "text": [
      "LOCAL_RANK: 0 - CUDA_VISIBLE_DEVICES: [0,1,2,3,4,5,6,7]\n"
     ]
    },
    {
     "name": "stdout",
     "output_type": "stream",
     "text": [
      "\n",
      "Rebalanced accuracy: 0.6746342994452954\n",
      "Budget=13, AUROC=0.8865821957588196, Avg. num features=13.0\n",
      "Predicting DataLoader 0: 100%|██████████████████████████████████████████████████████████████████████████████████████████████████████████████████████████████████████████████| 52/52 [00:04<00:00, 11.30it/s]\n"
     ]
    },
    {
     "name": "stderr",
     "output_type": "stream",
     "text": [
      "LOCAL_RANK: 0 - CUDA_VISIBLE_DEVICES: [0,1,2,3,4,5,6,7]\n"
     ]
    },
    {
     "name": "stdout",
     "output_type": "stream",
     "text": [
      "Rebalanced accuracy: 0.6722045617175161\n",
      "Budget=14, AUROC=0.8867348432540894, Avg. num features=14.0\n",
      "Predicting DataLoader 0: 100%|██████████████████████████████████████████████████████████████████████████████████████████████████████████████████████████████████████████████| 52/52 [00:04<00:00, 11.20it/s]\n",
      "Rebalanced accuracy: 0.6714544935461378\n",
      "Budget=15, AUROC=0.8868874907493591, Avg. num features=15.0\n"
     ]
    }
   ],
   "source": [
    "import sklearn.metrics as metrics\n",
    "num_selections = []\n",
    "feature_index = []\n",
    "freq = []\n",
    "\n",
    "for trial in range(1):\n",
    "    results_dict = {\"acc\": {}}\n",
    "#     trained_model_path = f\"/projects/leelab/sgadgil/Projects/DIME/experiments/intub/logs/max_features_40_with_decay_rate_0.2_use_entropy_false_feature_cost_False_trial_6/version_0/checkpoints/best_val_perfomance_model.ckpt\"\n",
    "    trained_model_path = f\"/projects/leelab/sgadgil/Projects/DIME/experiments/intub/logs/max_features_40_with_decay_rate_0.2_use_entropy_feature_cost_False_trial_0/version_0/checkpoints/best_val_perfomance_model.ckpt\"\n",
    "    greedy_cmi_estimator = CMIEstimator.load_from_checkpoint(trained_model_path,\n",
    "                                                                     value_network=value_network,\n",
    "                                                                     predictor=predictor,\n",
    "                                                                     mask_layer=mask_layer,\n",
    "                                                                     lr=1e-3,\n",
    "                                                                    max_features=40,\n",
    "                                                                    eps=0.1,\n",
    "                                                                    loss_fn=nn.CrossEntropyLoss(reduction='none'),\n",
    "                                                                    val_loss_fn=auc_metric,\n",
    "                                                                    eps_decay=0.2,\n",
    "                                                                    eps_steps=10,\n",
    "                                                                    patience=5,\n",
    "                                                                    feature_costs=None,\n",
    "                                                             cmi_scaling='bounded'\n",
    "                                                            ).to(device)\n",
    "    avg_num_features_budget = []\n",
    "    accuracy_scores_budget = []\n",
    "    all_masks_budget=[]\n",
    "    max_budget_values = range(1, 16) #[1, 3, 5, 10, 15, 20, 25]\n",
    "    freq.append([0] * 36)\n",
    "    for budget in max_budget_values:\n",
    "        metric_dict_budget = greedy_cmi_estimator.inference(trainer, test_dataloader, feature_costs=None, budget=budget)\n",
    "        \n",
    "        y = metric_dict_budget['y']\n",
    "        pred = metric_dict_budget['pred']\n",
    "        conf_matrix = metrics.confusion_matrix(y, np.argmax(pred, axis=1))\n",
    "        cls_acc = np.diag(conf_matrix) / np.sum(conf_matrix, 1) # accuracy per class\n",
    "        cls_avg = np.sum(cls_acc) / conf_matrix.shape[0]\n",
    "        print(\"Rebalanced accuracy: {}\".format(cls_avg))\n",
    "\n",
    "        accuracy_score = acc_metric(pred.float(), y)\n",
    "        final_masks = np.array(metric_dict_budget['mask'])\n",
    "        accuracy_scores_budget.append(accuracy_score)\n",
    "        avg_num_features_budget.append(np.mean(np.sum(final_masks, axis=1)))\n",
    "        results_dict['acc'][np.mean(np.sum(final_masks, axis=1))] = accuracy_score\n",
    "        print(f\"Budget={budget}, AUROC={accuracy_score}, Avg. num features={np.mean(np.sum(final_masks, axis=1))}\")\n",
    "#         num_selections += [budget] * final_masks.shape[1]\n",
    "#         feature_index += list(range(0, final_masks.shape[1]))\n",
    "        freq.append(list(sum(final_masks) / final_masks.shape[0]))\n",
    "        all_masks_budget.append(final_masks)\n",
    "    \n",
    "    with open(f'results/intub_ours_trial_{trial}_auc.pkl', 'wb') as f:\n",
    "        pickle.dump(results_dict, f)"
   ]
  },
  {
   "cell_type": "code",
   "execution_count": 6,
   "id": "00d3c2fa",
   "metadata": {},
   "outputs": [
    {
     "data": {
      "image/png": "[encoded data removed]",
      "text/plain": [
       "<Figure size 640x480 with 2 Axes>"
      ]
     },
     "metadata": {},
     "output_type": "display_data"
    }
   ],
   "source": [
    "import seaborn as sns\n",
    "df = pd.DataFrame(np.array(freq))\n",
    "plt.rcParams.update({'font.size': 17})\n",
    "sns.heatmap(df,  cmap=\"YlGnBu\")\n",
    "plt.xlabel(\"Feature Index\")\n",
    "plt.ylabel(\"Avg. # Features\")\n",
    "plt.title(\"Intub Selection Frequency\")\n",
    "plt.savefig(\"Intub_Selection_Freq.pdf\", format=\"pdf\", bbox_inches=\"tight\")"
   ]
  },
  {
   "cell_type": "code",
   "execution_count": 19,
   "id": "f4488e9b",
   "metadata": {},
   "outputs": [
    {
     "data": {
      "text/plain": [
       "array([2760., 1329.,  128.,    0., 6551., 6551., 6551.,    0.,    0.,\n",
       "       2429.,    0.,    0., 2765.,    0.,  417., 6551., 6551., 6551.,\n",
       "          0., 5340.,    0.,  434., 6551.,    0.,    0.,    0.,    0.,\n",
       "       4051.,    0.,    0.,    0.,    0.,    0.,    0.,    0.,    0.],\n",
       "      dtype=float32)"
      ]
     },
     "execution_count": 19,
     "metadata": {},
     "output_type": "execute_result"
    }
   ],
   "source": [
    "np.sum(final_masks, axis=0)"
   ]
  },
  {
   "cell_type": "code",
   "execution_count": 5,
   "id": "34719ca2",
   "metadata": {},
   "outputs": [
    {
     "name": "stderr",
     "output_type": "stream",
     "text": [
      "LOCAL_RANK: 0 - CUDA_VISIBLE_DEVICES: [0,1,2,3,4,5,6,7]\n"
     ]
    },
    {
     "name": "stdout",
     "output_type": "stream",
     "text": [
      "Predicting DataLoader 0:  73%|████████████████████████████████████████████████████████████████▎                       | 38/52 [00:07<00:02,  4.78it/s]\n",
      "Predicting: 52it [00:00, 61.59it/s]\n",
      "Rebalanced accuracy: 0.5\n",
      "Budget=1, AUROC=0.8502518534660339, Avg. num features=3.0\n"
     ]
    },
    {
     "name": "stderr",
     "output_type": "stream",
     "text": [
      "LOCAL_RANK: 0 - CUDA_VISIBLE_DEVICES: [0,1,2,3,4,5,6,7]\n"
     ]
    },
    {
     "name": "stdout",
     "output_type": "stream",
     "text": [
      "Predicting DataLoader 0: 100%|████████████████████████████████████████████████████████████████████████████████████████| 52/52 [00:00<00:00, 54.34it/s]\n",
      "Rebalanced accuracy: 0.6299525820023901\n"
     ]
    },
    {
     "name": "stderr",
     "output_type": "stream",
     "text": [
      "LOCAL_RANK: 0 - CUDA_VISIBLE_DEVICES: [0,1,2,3,4,5,6,7]\n"
     ]
    },
    {
     "name": "stdout",
     "output_type": "stream",
     "text": [
      "Budget=2, AUROC=0.8798656463623047, Avg. num features=10.0\n",
      "Predicting DataLoader 0: 100%|████████████████████████████████████████████████████████████████████████████████████████| 52/52 [00:01<00:00, 39.67it/s]\n",
      "Rebalanced accuracy: 0.6303116484296791\n",
      "Budget=3, AUROC=0.8804762363433838, Avg. num features=17.0\n"
     ]
    },
    {
     "name": "stderr",
     "output_type": "stream",
     "text": [
      "LOCAL_RANK: 0 - CUDA_VISIBLE_DEVICES: [0,1,2,3,4,5,6,7]\n"
     ]
    },
    {
     "name": "stdout",
     "output_type": "stream",
     "text": [
      "Predicting DataLoader 0: 100%|████████████████████████████████████████████████████████████████████████████████████████| 52/52 [00:01<00:00, 32.55it/s]\n",
      "Rebalanced accuracy: 0.627612610881433\n",
      "Budget=4, AUROC=0.8801709413528442, Avg. num features=24.0\n"
     ]
    },
    {
     "name": "stderr",
     "output_type": "stream",
     "text": [
      "LOCAL_RANK: 0 - CUDA_VISIBLE_DEVICES: [0,1,2,3,4,5,6,7]\n"
     ]
    },
    {
     "name": "stdout",
     "output_type": "stream",
     "text": [
      "Predicting DataLoader 0: 100%|████████████████████████████████████████████████████████████████████████████████████████| 52/52 [00:01<00:00, 27.64it/s]"
     ]
    },
    {
     "name": "stderr",
     "output_type": "stream",
     "text": [
      "LOCAL_RANK: 0 - CUDA_VISIBLE_DEVICES: [0,1,2,3,4,5,6,7]\n"
     ]
    },
    {
     "name": "stdout",
     "output_type": "stream",
     "text": [
      "\n",
      "Rebalanced accuracy: 0.6267727761032325\n",
      "Budget=5, AUROC=0.8801709413528442, Avg. num features=33.74263471225767\n",
      "Predicting DataLoader 0: 100%|████████████████████████████████████████████████████████████████████████████████████████| 52/52 [00:02<00:00, 23.61it/s]"
     ]
    },
    {
     "name": "stderr",
     "output_type": "stream",
     "text": [
      "LOCAL_RANK: 0 - CUDA_VISIBLE_DEVICES: [0,1,2,3,4,5,6,7]\n"
     ]
    },
    {
     "name": "stdout",
     "output_type": "stream",
     "text": [
      "\n",
      "Rebalanced accuracy: 0.6251539575086427\n",
      "Budget=6, AUROC=0.8795603513717651, Avg. num features=36.355823538391085\n",
      "Predicting DataLoader 0: 100%|████████████████████████████████████████████████████████████████████████████████████████| 52/52 [00:02<00:00, 21.21it/s]"
     ]
    },
    {
     "name": "stderr",
     "output_type": "stream",
     "text": [
      "LOCAL_RANK: 0 - CUDA_VISIBLE_DEVICES: [0,1,2,3,4,5,6,7]\n"
     ]
    },
    {
     "name": "stdout",
     "output_type": "stream",
     "text": [
      "\n",
      "Rebalanced accuracy: 0.6326196842338361\n",
      "Budget=7, AUROC=0.881544828414917, Avg. num features=39.128987940772404\n",
      "Predicting DataLoader 0: 100%|████████████████████████████████████████████████████████████████████████████████████████| 52/52 [00:02<00:00, 18.60it/s]"
     ]
    },
    {
     "name": "stderr",
     "output_type": "stream",
     "text": [
      "LOCAL_RANK: 0 - CUDA_VISIBLE_DEVICES: [0,1,2,3,4,5,6,7]\n"
     ]
    },
    {
     "name": "stdout",
     "output_type": "stream",
     "text": [
      "\n",
      "Rebalanced accuracy: 0.6371170735903166\n",
      "Budget=8, AUROC=0.8827660083770752, Avg. num features=42.35460235078614\n",
      "Predicting DataLoader 0: 100%|████████████████████████████████████████████████████████████████████████████████████████| 52/52 [00:03<00:00, 16.85it/s]\n",
      "Rebalanced accuracy: 0.635889256739816\n",
      "Budget=9, AUROC=0.8813921809196472, Avg. num features=45.34895435811327\n"
     ]
    },
    {
     "name": "stderr",
     "output_type": "stream",
     "text": [
      "LOCAL_RANK: 0 - CUDA_VISIBLE_DEVICES: [0,1,2,3,4,5,6,7]\n"
     ]
    },
    {
     "name": "stdout",
     "output_type": "stream",
     "text": [
      "Predicting DataLoader 0: 100%|████████████████████████████████████████████████████████████████████████████████████████| 52/52 [00:03<00:00, 15.71it/s]"
     ]
    },
    {
     "name": "stderr",
     "output_type": "stream",
     "text": [
      "LOCAL_RANK: 0 - CUDA_VISIBLE_DEVICES: [0,1,2,3,4,5,6,7]\n"
     ]
    },
    {
     "name": "stdout",
     "output_type": "stream",
     "text": [
      "\n",
      "Rebalanced accuracy: 0.641226480874497\n",
      "Budget=10, AUROC=0.8826133608818054, Avg. num features=48.19966417340864\n",
      "Predicting DataLoader 0: 100%|████████████████████████████████████████████████████████████████████████████████████████| 52/52 [00:03<00:00, 14.20it/s]"
     ]
    },
    {
     "name": "stderr",
     "output_type": "stream",
     "text": [
      "LOCAL_RANK: 0 - CUDA_VISIBLE_DEVICES: [0,1,2,3,4,5,6,7]\n"
     ]
    },
    {
     "name": "stdout",
     "output_type": "stream",
     "text": [
      "\n",
      "Rebalanced accuracy: 0.642216933221331\n",
      "Budget=11, AUROC=0.8821554183959961, Avg. num features=51.655625095405284\n",
      "Predicting DataLoader 0: 100%|████████████████████████████████████████████████████████████████████████████████████████| 52/52 [00:03<00:00, 13.27it/s]"
     ]
    },
    {
     "name": "stderr",
     "output_type": "stream",
     "text": [
      "LOCAL_RANK: 0 - CUDA_VISIBLE_DEVICES: [0,1,2,3,4,5,6,7]\n"
     ]
    },
    {
     "name": "stdout",
     "output_type": "stream",
     "text": [
      "\n",
      "Rebalanced accuracy: 0.6482753098823792\n",
      "Budget=12, AUROC=0.8824607133865356, Avg. num features=55.376736376125784\n",
      "Predicting DataLoader 0: 100%|████████████████████████████████████████████████████████████████████████████████████████| 52/52 [00:04<00:00, 12.12it/s]\n",
      "Rebalanced accuracy: 0.6564043578439177\n",
      "Budget=13, AUROC=0.8820027709007263, Avg. num features=59.77698061364677\n"
     ]
    },
    {
     "name": "stderr",
     "output_type": "stream",
     "text": [
      "LOCAL_RANK: 0 - CUDA_VISIBLE_DEVICES: [0,1,2,3,4,5,6,7]\n"
     ]
    },
    {
     "name": "stdout",
     "output_type": "stream",
     "text": [
      "Predicting DataLoader 0: 100%|████████████████████████████████████████████████████████████████████████████████████████| 52/52 [00:04<00:00, 11.44it/s]\n",
      "Rebalanced accuracy: 0.6612060020094543\n",
      "Budget=14, AUROC=0.8801709413528442, Avg. num features=63.73439169592429\n"
     ]
    }
   ],
   "source": [
    "import sklearn.metrics as metrics\n",
    "feature_costs = [1, 1, 3, 3, 3, 3, 4, 4, 5, 4, 4, 6, 6, 6, 6, 7, 7, 7, 2, 8, 8, 9, 8, 7, 7, 7, 8, 10, 9, 7, 10, 10, 10, 10, 6, 8]\n",
    "freq = []\n",
    "for trial in range(1):\n",
    "    results_dict = {\"acc\": {}}\n",
    "    trained_model_path = f\"/projects/leelab/sgadgil/Projects/DIME/experiments/intub/logs/max_features_40_with_decay_rate_0.2_use_entropy_feature_cost_True_trial_0/version_4/checkpoints/best_val_perfomance_model.ckpt\"\n",
    "    greedy_cmi_estimator = CMIEstimator.load_from_checkpoint(trained_model_path,\n",
    "                                                                     value_network=value_network,\n",
    "                                                                     predictor=predictor,\n",
    "                                                                     mask_layer=mask_layer,\n",
    "                                                                     lr=1e-3,\n",
    "                                                                    max_features=40,\n",
    "                                                                    eps=0.1,\n",
    "                                                                    loss_fn=nn.CrossEntropyLoss(reduction='none'),\n",
    "                                                                    val_loss_fn=auc_metric,\n",
    "                                                                    eps_decay=0.2,\n",
    "                                                                    eps_steps=10,\n",
    "                                                                    patience=5,\n",
    "                                                                    feature_costs=np.array(feature_costs)\n",
    "                                                            ).to(device)\n",
    "    avg_num_features_budget = []\n",
    "    accuracy_scores_budget = []\n",
    "    all_masks_budget=[]\n",
    "    max_budget_values = range(1, 15)#[1, 3, 5, 10, 15, 20, 25, 30]\n",
    "    for budget in max_budget_values:\n",
    "        metric_dict_budget = greedy_cmi_estimator.inference(trainer, test_dataloader, feature_costs=np.array(feature_costs), budget=budget)\n",
    "        \n",
    "        y = metric_dict_budget['y']\n",
    "        pred = metric_dict_budget['pred']\n",
    "        conf_matrix = metrics.confusion_matrix(y, np.argmax(pred, axis=1))\n",
    "        cls_acc = np.diag(conf_matrix) / np.sum(conf_matrix, 1) # accuracy per class\n",
    "        cls_avg = np.sum(cls_acc) / conf_matrix.shape[0]\n",
    "        print(\"Rebalanced accuracy: {}\".format(cls_avg))\n",
    "\n",
    "        accuracy_score = acc_metric(pred.float(), y)\n",
    "        final_masks = np.array(metric_dict_budget['mask'])\n",
    "        accuracy_scores_budget.append(accuracy_score)\n",
    "        avg_num_features_budget.append(np.mean(np.sum(final_masks, axis=1)))\n",
    "        results_dict['acc'][np.mean(np.sum(final_masks, axis=1))] = accuracy_score\n",
    "        print(f\"Budget={budget}, AUROC={accuracy_score}, Avg. num features={np.mean(np.sum(final_masks * feature_costs, axis=1))}\")\n",
    "        freq.append(list(sum(final_masks) / final_masks.shape[0]))\n",
    "\n",
    "        all_masks_budget.append(final_masks)\n",
    "    \n",
    "    with open(f'results/intub_ours_trial_{trial}_auc.pkl', 'wb') as f:\n",
    "        pickle.dump(results_dict, f)"
   ]
  },
  {
   "cell_type": "code",
   "execution_count": 7,
   "id": "80adf79e",
   "metadata": {},
   "outputs": [
    {
     "data": {
      "text/plain": [
       "<Axes: >"
      ]
     },
     "execution_count": 7,
     "metadata": {},
     "output_type": "execute_result"
    },
    {
     "data": {
      "image/png": "[encoded data removed]",
      "text/plain": [
       "<Figure size 640x480 with 2 Axes>"
      ]
     },
     "metadata": {},
     "output_type": "display_data"
    }
   ],
   "source": [
    "import seaborn as sns\n",
    "df = pd.DataFrame(np.array(freq))\n",
    "sns.heatmap(df,  cmap=\"YlGnBu\")"
   ]
  },
  {
   "cell_type": "code",
   "execution_count": null,
   "id": "c39fac6c",
   "metadata": {},
   "outputs": [],
   "source": []
  }
 ],
 "metadata": {
  "kernelspec": {
   "display_name": "Python [conda env:test_DIME_2]",
   "language": "python",
   "name": "conda-env-test_DIME_2-py"
  },
  "language_info": {
   "codemirror_mode": {
    "name": "ipython",
    "version": 3
   },
   "file_extension": ".py",
   "mimetype": "text/x-python",
   "name": "python",
   "nbconvert_exporter": "python",
   "pygments_lexer": "ipython3",
   "version": "3.9.16"
  }
 },
 "nbformat": 4,
 "nbformat_minor": 5
}
